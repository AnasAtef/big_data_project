{
 "cells": [
  {
   "cell_type": "code",
   "execution_count": 7,
   "metadata": {},
   "outputs": [
    {
     "name": "stdout",
     "output_type": "stream",
     "text": [
      "Connecting to Elasticsearch at: ['http://localhost:9200']\n",
      "Elasticsearch client initialized successfully.\n"
     ]
    },
    {
     "name": "stderr",
     "output_type": "stream",
     "text": [
      "C:\\Users\\anasb\\AppData\\Local\\Temp\\ipykernel_5900\\2891988509.py:22: ElasticsearchWarning: Elasticsearch built-in security features are not enabled. Without authentication, your cluster could be accessible to anyone. See https://www.elastic.co/guide/en/elasticsearch/reference/7.17/security-minimal-setup.html to enable security.\n",
      "  es.index(index='text_files', body={'filename': filename, 'content': text_content})\n"
     ]
    },
    {
     "name": "stdout",
     "output_type": "stream",
     "text": [
      "nypost.com/2022/12/13/the-inflation-tide-has-turned-no-thanks-to-the-fed/\n",
      "nypost.com/2022/12/13/the-inflation-tide-has-turned-no-thanks-to-the-fed/\n",
      "nypost.com/2022/12/13/the-inflation-tide-has-turned-no-thanks-to-the-fed/\n",
      "nypost.com/2022/12/21/champagne-makers-pop-corks-on-record-6-5b-in-sales-despite-inflation/\n",
      "nypost.com/2022/12/21/champagne-makers-pop-corks-on-record-6-5b-in-sales-despite-inflation/\n",
      "nypost.com/2022/12/21/champagne-makers-pop-corks-on-record-6-5b-in-sales-despite-inflation/\n",
      "nypost.com/2022/12/20/economists-see-70-of-us-recession-in-2023-survey/\n",
      "nypost.com/2022/12/20/economists-see-70-of-us-recession-in-2023-survey/\n",
      "nypost.com/2022/12/20/economists-see-70-of-us-recession-in-2023-survey/\n",
      "nypost.com/2022/12/21/dow-jumps-500-points-buoyed-by-nike-improved-consumer-confidence/\n"
     ]
    },
    {
     "name": "stderr",
     "output_type": "stream",
     "text": [
      "C:\\Users\\anasb\\AppData\\Local\\Temp\\ipykernel_5900\\2891988509.py:28: ElasticsearchWarning: Elasticsearch built-in security features are not enabled. Without authentication, your cluster could be accessible to anyone. See https://www.elastic.co/guide/en/elasticsearch/reference/7.17/security-minimal-setup.html to enable security.\n",
      "  search_results = es.search(index='text_files', body={'query': {'match': {'content': query}}})\n"
     ]
    }
   ],
   "source": [
    "from elasticsearch import Elasticsearch \n",
    "import os\n",
    "\n",
    "# Specify the address of your Elasticsearch instance\n",
    "hosts = ['http://localhost:9200']\n",
    "print(\"Connecting to Elasticsearch at:\", hosts)\n",
    "\n",
    "# Initialize the Elasticsearch client\n",
    "try:\n",
    "    es = Elasticsearch(hosts=hosts)\n",
    "    print(\"Elasticsearch client initialized successfully.\")\n",
    "except Exception as e:\n",
    "    print(\"Error initializing Elasticsearch client:\", str(e))\n",
    "\n",
    "def index_files(directory):\n",
    "    text_files = [f for f in os.listdir(directory) if f.endswith('.txt')]\n",
    "    for filename in text_files:\n",
    "        file_path = os.path.join(directory, filename)\n",
    "        with open(file_path, 'r', encoding='utf-8') as file:\n",
    "            text_content = file.read()\n",
    "            try:\n",
    "                es.index(index='text_files', body={'filename': filename, 'content': text_content})\n",
    "            except Exception as e:\n",
    "                print(\"Error indexing file:\", filename, str(e))\n",
    "\n",
    "def search_files(query):\n",
    "    try:\n",
    "        search_results = es.search(index='text_files', body={'query': {'match': {'content': query}}})\n",
    "        return search_results['hits']['hits']\n",
    "    except Exception as e:\n",
    "        print(\"Error performing search query:\", str(e))\n",
    "        return []\n",
    "\n",
    "# Specify the directory containing your text files\n",
    "text_files_directory = 'C:/Users/anasb/Desktop/Big Data Project/input/input'\n",
    "\n",
    "# Index all text files in the directory\n",
    "index_files(text_files_directory)\n",
    "\n",
    "def decode_link_format(link):\n",
    "    # Decode the link\n",
    "    link = link.replace('--', \":\")\n",
    "    link = link.replace('_', \"/\")\n",
    "    link= link.replace('.txt', '')\n",
    "    return link\n",
    "# Perform a search query\n",
    "search_query = 'inflation'\n",
    "results = search_files(search_query)\n",
    "\n",
    "# Display search results\n",
    "for result in results:\n",
    "    print(decode_link_format(result['_source']['filename']))\n"
   ]
  },
  {
   "cell_type": "code",
   "execution_count": 6,
   "metadata": {},
   "outputs": [],
   "source": []
  },
  {
   "cell_type": "code",
   "execution_count": null,
   "metadata": {},
   "outputs": [],
   "source": []
  }
 ],
 "metadata": {
  "kernelspec": {
   "display_name": "Python 3",
   "language": "python",
   "name": "python3"
  },
  "language_info": {
   "codemirror_mode": {
    "name": "ipython",
    "version": 3
   },
   "file_extension": ".py",
   "mimetype": "text/x-python",
   "name": "python",
   "nbconvert_exporter": "python",
   "pygments_lexer": "ipython3",
   "version": "3.11.7"
  }
 },
 "nbformat": 4,
 "nbformat_minor": 2
}
