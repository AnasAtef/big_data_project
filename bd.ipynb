{
 "cells": [
  {
   "cell_type": "code",
   "execution_count": 1,
   "metadata": {},
   "outputs": [
    {
     "name": "stdout",
     "output_type": "stream",
     "text": [
      "Connecting to Elasticsearch at: ['http://localhost:9200']\n",
      "Elasticsearch client initialized successfully.\n"
     ]
    },
    {
     "name": "stderr",
     "output_type": "stream",
     "text": [
      "C:\\Users\\anasb\\AppData\\Local\\Temp\\ipykernel_18144\\138211020.py:22: ElasticsearchWarning: Elasticsearch built-in security features are not enabled. Without authentication, your cluster could be accessible to anyone. See https://www.elastic.co/guide/en/elasticsearch/reference/7.17/security-minimal-setup.html to enable security.\n",
      "  es.index(index='text_files', body={'filename': filename, 'content': text_content})\n"
     ]
    },
    {
     "name": "stdout",
     "output_type": "stream",
     "text": [
      "nypost.com_2022_12_13_the-inflation-tide-has-turned-no-thanks-to-the-fed_.txt\n",
      "nypost.com_2022_12_13_the-inflation-tide-has-turned-no-thanks-to-the-fed_.txt\n",
      "nypost.com_2022_12_13_the-inflation-tide-has-turned-no-thanks-to-the-fed_.txt\n",
      "nypost.com_2022_12_21_champagne-makers-pop-corks-on-record-6-5b-in-sales-despite-inflation_.txt\n",
      "nypost.com_2022_12_21_champagne-makers-pop-corks-on-record-6-5b-in-sales-despite-inflation_.txt\n",
      "nypost.com_2022_12_21_champagne-makers-pop-corks-on-record-6-5b-in-sales-despite-inflation_.txt\n",
      "nypost.com_2022_12_20_economists-see-70-of-us-recession-in-2023-survey_.txt\n",
      "nypost.com_2022_12_20_economists-see-70-of-us-recession-in-2023-survey_.txt\n",
      "nypost.com_2022_12_20_economists-see-70-of-us-recession-in-2023-survey_.txt\n",
      "nypost.com_2022_12_21_dow-jumps-500-points-buoyed-by-nike-improved-consumer-confidence_.txt\n"
     ]
    },
    {
     "name": "stderr",
     "output_type": "stream",
     "text": [
      "C:\\Users\\anasb\\AppData\\Local\\Temp\\ipykernel_18144\\138211020.py:28: ElasticsearchWarning: Elasticsearch built-in security features are not enabled. Without authentication, your cluster could be accessible to anyone. See https://www.elastic.co/guide/en/elasticsearch/reference/7.17/security-minimal-setup.html to enable security.\n",
      "  search_results = es.search(index='text_files', body={'query': {'match': {'content': query}}})\n"
     ]
    }
   ],
   "source": [
    "from elasticsearch import Elasticsearch \n",
    "import os\n",
    "\n",
    "# Specify the address of your Elasticsearch instance\n",
    "hosts = ['http://localhost:9200']\n",
    "print(\"Connecting to Elasticsearch at:\", hosts)\n",
    "\n",
    "# Initialize the Elasticsearch client\n",
    "try:\n",
    "    es = Elasticsearch(hosts=hosts)\n",
    "    print(\"Elasticsearch client initialized successfully.\")\n",
    "except Exception as e:\n",
    "    print(\"Error initializing Elasticsearch client:\", str(e))\n",
    "\n",
    "def index_files(directory):\n",
    "    text_files = [f for f in os.listdir(directory) if f.endswith('.txt')]\n",
    "    for filename in text_files:\n",
    "        file_path = os.path.join(directory, filename)\n",
    "        with open(file_path, 'r', encoding='utf-8') as file:\n",
    "            text_content = file.read()\n",
    "            try:\n",
    "                es.index(index='text_files', body={'filename': filename, 'content': text_content})\n",
    "            except Exception as e:\n",
    "                print(\"Error indexing file:\", filename, str(e))\n",
    "\n",
    "def search_files(query):\n",
    "    try:\n",
    "        search_results = es.search(index='text_files', body={'query': {'match': {'content': query}}})\n",
    "        return search_results['hits']['hits']\n",
    "    except Exception as e:\n",
    "        print(\"Error performing search query:\", str(e))\n",
    "        return []\n",
    "\n",
    "# Specify the directory containing your text files\n",
    "text_files_directory = 'C:/Users/anasb/Desktop/Big Data Project/input/input'\n",
    "\n",
    "# Index all text files in the directory\n",
    "index_files(text_files_directory)\n",
    "\n",
    "# Perform a search query\n",
    "search_query = 'inflation'\n",
    "results = search_files(search_query)\n",
    "\n",
    "# Display search results\n",
    "for result in results:\n",
    "    print(result['_source']['filename'])\n"
   ]
  },
  {
   "cell_type": "code",
   "execution_count": 2,
   "metadata": {},
   "outputs": [
    {
     "name": "stdout",
     "output_type": "stream",
     "text": [
      "['c:\\\\Users\\\\anasb\\\\Desktop\\\\Big Data Project', 'c:\\\\Users\\\\anasb\\\\anaconda3\\\\python311.zip', 'c:\\\\Users\\\\anasb\\\\anaconda3\\\\DLLs', 'c:\\\\Users\\\\anasb\\\\anaconda3\\\\Lib', 'c:\\\\Users\\\\anasb\\\\anaconda3', '', 'c:\\\\Users\\\\anasb\\\\anaconda3\\\\Lib\\\\site-packages', 'c:\\\\Users\\\\anasb\\\\anaconda3\\\\Lib\\\\site-packages\\\\win32', 'c:\\\\Users\\\\anasb\\\\anaconda3\\\\Lib\\\\site-packages\\\\win32\\\\lib', 'c:\\\\Users\\\\anasb\\\\anaconda3\\\\Lib\\\\site-packages\\\\Pythonwin']\n"
     ]
    }
   ],
   "source": [
    "import sys\n",
    "print(sys.path)\n"
   ]
  },
  {
   "cell_type": "code",
   "execution_count": null,
   "metadata": {},
   "outputs": [],
   "source": []
  }
 ],
 "metadata": {
  "kernelspec": {
   "display_name": "Python 3",
   "language": "python",
   "name": "python3"
  },
  "language_info": {
   "codemirror_mode": {
    "name": "ipython",
    "version": 3
   },
   "file_extension": ".py",
   "mimetype": "text/x-python",
   "name": "python",
   "nbconvert_exporter": "python",
   "pygments_lexer": "ipython3",
   "version": "3.11.7"
  }
 },
 "nbformat": 4,
 "nbformat_minor": 2
}
